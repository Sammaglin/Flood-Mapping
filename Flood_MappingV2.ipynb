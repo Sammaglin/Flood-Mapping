{
  "nbformat": 4,
  "nbformat_minor": 0,
  "metadata": {
    "colab": {
      "provenance": []
    },
    "kernelspec": {
      "name": "python3",
      "display_name": "Python 3"
    },
    "language_info": {
      "name": "python"
    }
  },
  "cells": [
    {
      "cell_type": "markdown",
      "source": [
        "# 🛰️ Sentinel-1 SAR Data Analysis using Google Earth Engine  \n",
        "\n",
        "This notebook performs **Sentinel-1 SAR data processing** for water body detection using **NDWI (Normalized Difference Water Index)** in your selected **Area of Interest (AOI)**.  \n",
        "\n",
        "---\n",
        "\n",
        "## 🚀 How to Run the Code  \n",
        "\n",
        "1. **Run each code cell one by one (top to bottom).**  \n",
        "   - The first cell installs and imports all necessary libraries like `geemap`, `ee`, and `folium`.  \n",
        "\n",
        "2. **Authenticate your Google Earth Engine account.**  \n",
        "   - When prompted, click the link shown in the output.  \n",
        "   - Sign in with your Google account.  \n",
        "   - Copy the authentication code and paste it back into the cell.  \n",
        "\n",
        "3. **Draw your AOI (Area of Interest).**  \n",
        "   - Wait for the map to load.  \n",
        "   - Use the drawing tools (rectangle or polygon icon) on the left side of the map to select your study area.  \n",
        "\n",
        "4. **Set the Date Range.**  \n",
        "   - Use the dropdown or input boxes to select your desired **start date** and **end date** for Sentinel-1 data collection.  \n",
        "\n",
        "5. **Run the Analysis.**  \n",
        "   - The code will automatically filter Sentinel-1 images for your AOI and date range.  \n",
        "   - It will compute the NDWI index and display a processed map of water bodies.  \n",
        "\n",
        "6. **View the Results.**  \n",
        "   - The results will be shown on an interactive map below the code cell.  \n",
        "   - A time-series chart (line graph) of NDWI variation may also appear if included in the notebook.  \n",
        "\n",
        "7. **Export the Output (Optional).**  \n",
        "   - If export code is available, you can export the processed raster to your Google Drive.  \n",
        "\n",
        "---\n",
        "\n",
        "## 🧠 Notes  \n",
        "\n",
        "- If the map does not appear, click **“Runtime → Restart and Run All”** in the Colab menu.  \n",
        "- Ensure you are logged into the same Google account linked to Earth Engine.  \n",
        "- Larger AOIs or long time ranges may take extra processing time.  \n",
        "\n",
        "---\n",
        "\n",
        "## 📦 Libraries Used  \n",
        "\n",
        "- **geemap** – for interactive GEE + folium mapping  \n",
        "- **ee (Earth Engine API)** – for accessing satellite data  \n",
        "- **folium** – for rendering maps  \n",
        "- **matplotlib / pandas** – for data visualization and analysis"
      ],
      "metadata": {
        "id": "ALfP1CSa-bp9"
      }
    },
    {
      "cell_type": "code",
      "execution_count": null,
      "metadata": {
        "id": "Dv8hH7BGZX_Q"
      },
      "outputs": [],
      "source": [
        "!pip install ipywidgets geemap\n",
        "from ipywidgets import widgets, interact, Layout\n",
        "import geemap\n",
        "import ee\n",
        "import datetime"
      ]
    },
    {
      "cell_type": "code",
      "source": [
        "ee.Authenticate()\n",
        "ee.Initialize(project=\"ee-sammaglin1971\")"
      ],
      "metadata": {
        "id": "ge8hJ0lTZnpu"
      },
      "execution_count": null,
      "outputs": []
    },
    {
      "cell_type": "code",
      "source": [
        "# Define start and end dates\n",
        "start_date = datetime.date(2021, 7, 1)\n",
        "end_date = datetime.date(2021, 7, 15)\n",
        "\n",
        "print(f\"Start Date: {start_date}\")\n",
        "print(f\"End Date: {end_date}\")"
      ],
      "metadata": {
        "id": "n78XD2ncZqmi"
      },
      "execution_count": null,
      "outputs": []
    },
    {
      "cell_type": "code",
      "source": [
        "Map = geemap.Map(center=[25.6, 85.3], zoom=7)\n",
        "Map.add_basemap(\"SATELLITE\")\n",
        "Map.add_draw_control()  # user draws AOI\n",
        "Map"
      ],
      "metadata": {
        "id": "eALDws0cZxCE"
      },
      "execution_count": null,
      "outputs": []
    },
    {
      "cell_type": "code",
      "source": [
        "def run_analysis(start_date, end_date):\n",
        "    aoi = Map.user_roi\n",
        "    if aoi is None:\n",
        "        print(\"Draw your AOI first!\")\n",
        "        return\n",
        "\n",
        "    # Pre and Post flood Sentinel-1\n",
        "    pre_flood = ee.ImageCollection(\"COPERNICUS/S1_GRD\") \\\n",
        "        .filterBounds(aoi) \\\n",
        "        .filterDate(str(start_date), str(start_date + datetime.timedelta(days=7))) \\\n",
        "        .filter(ee.Filter.listContains(\"transmitterReceiverPolarisation\", \"VV\")) \\\n",
        "        .select(\"VV\").mean()\n",
        "\n",
        "    post_flood = ee.ImageCollection(\"COPERNICUS/S1_GRD\") \\\n",
        "        .filterBounds(aoi) \\\n",
        "        .filterDate(str(end_date), str(end_date + datetime.timedelta(days=7))) \\\n",
        "        .filter(ee.Filter.listContains(\"transmitterReceiverPolarisation\", \"VV\")) \\\n",
        "        .select(\"VV\").mean()\n",
        "\n",
        "    # Simple analysis: difference\n",
        "    flood_diff = post_flood.subtract(pre_flood)\n",
        "    flood_mask = flood_diff.lt(-2).clip(aoi)\n",
        "\n",
        "    Map.addLayer(pre_flood, {\"min\":-25,\"max\":0}, \"Pre-Flood VV\")\n",
        "    Map.addLayer(post_flood, {\"min\":-25,\"max\":0}, \"Post-Flood VV\")\n",
        "    Map.addLayer(flood_mask.updateMask(flood_mask), {\"palette\":[\"blue\"]}, \"Flooded Areas\")\n",
        "    display(Map)"
      ],
      "metadata": {
        "id": "0IeKiWJ9ZzO7"
      },
      "execution_count": null,
      "outputs": []
    },
    {
      "cell_type": "code",
      "source": [
        "run_analysis(start_date, end_date)"
      ],
      "metadata": {
        "id": "l_0vBkbnZ61o"
      },
      "execution_count": null,
      "outputs": []
    }
  ]
}